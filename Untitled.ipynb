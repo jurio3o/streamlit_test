{
 "cells": [
  {
   "cell_type": "code",
   "execution_count": 1,
   "id": "eea8ee66",
   "metadata": {
    "ExecuteTime": {
     "end_time": "2023-01-17T10:48:53.089941Z",
     "start_time": "2023-01-17T10:48:52.907575Z"
    }
   },
   "outputs": [],
   "source": [
    "import recorder"
   ]
  },
  {
   "cell_type": "code",
   "execution_count": 2,
   "id": "d691a4c6",
   "metadata": {
    "ExecuteTime": {
     "end_time": "2023-01-17T10:48:54.274614Z",
     "start_time": "2023-01-17T10:48:54.260142Z"
    }
   },
   "outputs": [],
   "source": [
    "stream_params = recorder.StreamParams()"
   ]
  },
  {
   "cell_type": "code",
   "execution_count": 3,
   "id": "b9de6597",
   "metadata": {
    "ExecuteTime": {
     "end_time": "2023-01-17T10:48:55.704800Z",
     "start_time": "2023-01-17T10:48:55.691575Z"
    }
   },
   "outputs": [],
   "source": [
    "recorder = recorder.Recorder(stream_params)"
   ]
  },
  {
   "cell_type": "code",
   "execution_count": 5,
   "id": "80f73c27",
   "metadata": {
    "ExecuteTime": {
     "end_time": "2023-01-17T10:49:53.294615Z",
     "start_time": "2023-01-17T10:49:37.740897Z"
    }
   },
   "outputs": [
    {
     "name": "stdout",
     "output_type": "stream",
     "text": [
      "Start recording...\n",
      "안 해 보세요 안녕하세요\n",
      "Stop recording\n"
     ]
    }
   ],
   "source": [
    "recorder.record(5, \"audio.wav\")\n",
    "    "
   ]
  },
  {
   "cell_type": "code",
   "execution_count": 14,
   "id": "f93ece43",
   "metadata": {
    "ExecuteTime": {
     "end_time": "2023-01-12T11:05:23.129748Z",
     "start_time": "2023-01-12T11:05:23.113593Z"
    }
   },
   "outputs": [
    {
     "data": {
      "text/plain": [
       "<_io.BufferedReader name='C://Users/Administrator/Dropbox/adv/test/audio.wav'>"
      ]
     },
     "execution_count": 14,
     "metadata": {},
     "output_type": "execute_result"
    }
   ],
   "source": [
    "open('C://Users/Administrator/Dropbox/adv/test/audio.wav', 'rb')"
   ]
  },
  {
   "cell_type": "code",
   "execution_count": null,
   "id": "5d5c7281",
   "metadata": {},
   "outputs": [],
   "source": []
  }
 ],
 "metadata": {
  "kernelspec": {
   "display_name": "Python 3 (ipykernel)",
   "language": "python",
   "name": "python3"
  },
  "language_info": {
   "codemirror_mode": {
    "name": "ipython",
    "version": 3
   },
   "file_extension": ".py",
   "mimetype": "text/x-python",
   "name": "python",
   "nbconvert_exporter": "python",
   "pygments_lexer": "ipython3",
   "version": "3.9.12"
  },
  "toc": {
   "base_numbering": 1,
   "nav_menu": {},
   "number_sections": true,
   "sideBar": true,
   "skip_h1_title": false,
   "title_cell": "Table of Contents",
   "title_sidebar": "Contents",
   "toc_cell": false,
   "toc_position": {},
   "toc_section_display": true,
   "toc_window_display": false
  }
 },
 "nbformat": 4,
 "nbformat_minor": 5
}
