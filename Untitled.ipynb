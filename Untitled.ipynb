{
 "cells": [
  {
   "cell_type": "code",
   "execution_count": 1,
   "id": "eea8ee66",
   "metadata": {
    "ExecuteTime": {
     "end_time": "2023-01-12T11:24:19.688059Z",
     "start_time": "2023-01-12T11:24:19.540262Z"
    }
   },
   "outputs": [],
   "source": [
    "import recorder"
   ]
  },
  {
   "cell_type": "code",
   "execution_count": 2,
   "id": "d691a4c6",
   "metadata": {
    "ExecuteTime": {
     "end_time": "2023-01-12T11:24:19.703599Z",
     "start_time": "2023-01-12T11:24:19.688973Z"
    }
   },
   "outputs": [],
   "source": [
    "stream_params = recorder.StreamParams()"
   ]
  },
  {
   "cell_type": "code",
   "execution_count": 3,
   "id": "b9de6597",
   "metadata": {
    "ExecuteTime": {
     "end_time": "2023-01-12T11:24:19.734390Z",
     "start_time": "2023-01-12T11:24:19.719888Z"
    }
   },
   "outputs": [],
   "source": [
    "recorder = recorder.Recorder(stream_params)"
   ]
  },
  {
   "cell_type": "code",
   "execution_count": 4,
   "id": "80f73c27",
   "metadata": {
    "ExecuteTime": {
     "end_time": "2023-01-12T11:24:35.779061Z",
     "start_time": "2023-01-12T11:24:20.177198Z"
    }
   },
   "outputs": [
    {
     "name": "stdout",
     "output_type": "stream",
     "text": [
      "Start recording...\n",
      "{'id': '2yXkTIqyS8CULs9kcrSpcw', 'status': 'completed', 'results': {'utterances': [{'start_at': 1201, 'duration': 90, 'spk': 0, 'spk_type': 'NORMAL', 'msg': '응'}], 'verified': False}}\n",
      "응\n",
      "Stop recording\n"
     ]
    }
   ],
   "source": [
    "recorder.record(5, \"audio.wav\")\n",
    "    "
   ]
  },
  {
   "cell_type": "code",
   "execution_count": 14,
   "id": "f93ece43",
   "metadata": {
    "ExecuteTime": {
     "end_time": "2023-01-12T11:05:23.129748Z",
     "start_time": "2023-01-12T11:05:23.113593Z"
    }
   },
   "outputs": [
    {
     "data": {
      "text/plain": [
       "<_io.BufferedReader name='C://Users/Administrator/Dropbox/adv/test/audio.wav'>"
      ]
     },
     "execution_count": 14,
     "metadata": {},
     "output_type": "execute_result"
    }
   ],
   "source": [
    "open('C://Users/Administrator/Dropbox/adv/test/audio.wav', 'rb')"
   ]
  },
  {
   "cell_type": "code",
   "execution_count": null,
   "id": "5d5c7281",
   "metadata": {},
   "outputs": [],
   "source": []
  }
 ],
 "metadata": {
  "kernelspec": {
   "display_name": "Python 3 (ipykernel)",
   "language": "python",
   "name": "python3"
  },
  "language_info": {
   "codemirror_mode": {
    "name": "ipython",
    "version": 3
   },
   "file_extension": ".py",
   "mimetype": "text/x-python",
   "name": "python",
   "nbconvert_exporter": "python",
   "pygments_lexer": "ipython3",
   "version": "3.9.12"
  },
  "toc": {
   "base_numbering": 1,
   "nav_menu": {},
   "number_sections": true,
   "sideBar": true,
   "skip_h1_title": false,
   "title_cell": "Table of Contents",
   "title_sidebar": "Contents",
   "toc_cell": false,
   "toc_position": {},
   "toc_section_display": true,
   "toc_window_display": false
  }
 },
 "nbformat": 4,
 "nbformat_minor": 5
}
